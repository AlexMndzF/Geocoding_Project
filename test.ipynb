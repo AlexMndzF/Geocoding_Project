{
 "cells": [
  {
   "cell_type": "code",
   "execution_count": 1,
   "metadata": {},
   "outputs": [
    {
     "name": "stderr",
     "output_type": "stream",
     "text": [
      "/usr/lib/python3/dist-packages/requests/__init__.py:80: RequestsDependencyWarning: urllib3 (1.24.2) or chardet (3.0.4) doesn't match a supported version!\n",
      "  RequestsDependencyWarning)\n"
     ]
    },
    {
     "data": {
      "text/plain": [
       "True"
      ]
     },
     "execution_count": 1,
     "metadata": {},
     "output_type": "execute_result"
    }
   ],
   "source": [
    "import os\n",
    "from pymongo import MongoClient, GEO2D\n",
    "import pandas as pd\n",
    "import json\n",
    "import requests\n",
    "from dotenv import load_dotenv\n",
    "import re\n",
    "from geopy.distance import geodesic \n",
    "load_dotenv()"
   ]
  },
  {
   "cell_type": "code",
   "execution_count": 5,
   "metadata": {},
   "outputs": [
    {
     "data": {
      "text/plain": [
       "<os._wrap_close at 0x7ff4c8dc0630>"
      ]
     },
     "execution_count": 5,
     "metadata": {},
     "output_type": "execute_result"
    }
   ],
   "source": [
    "'''startmongo = 'service mongod start'\n",
    "command = 'mongoimport --db companies --collection companies --file Database/companies.json'\n",
    "def initDB():\n",
    "    os.popen(startmongo)\n",
    "os.popen(startmongo)\n",
    "os.popen('service mongod status')\n",
    "os.popen(command)'''"
   ]
  },
  {
   "cell_type": "code",
   "execution_count": 6,
   "metadata": {},
   "outputs": [],
   "source": [
    "def connectCollection(database, collection):\n",
    "    client = MongoClient()\n",
    "    db = client[database]\n",
    "    coll = db[collection]\n",
    "    return db, coll"
   ]
  },
  {
   "cell_type": "code",
   "execution_count": 7,
   "metadata": {},
   "outputs": [],
   "source": [
    "db,coll = (list(connectCollection('companies','companies')))\n",
    "rest = (list(coll.find({'$and':[{'$or':[{\"offices.latitude\":{'$ne':None}},{\"offices.longitude\":{'$ne':None}}]},{'deadpooled_year':None}]})))\n",
    "value =  rest[0].get('total_money_raised')"
   ]
  },
  {
   "cell_type": "code",
   "execution_count": 8,
   "metadata": {},
   "outputs": [],
   "source": [
    "#q = {'$or':[{\"offices.latitude\":{'$ne':'null'}},{\"offices.longitude\":{'$ne':'null'}}]}\n",
    "rest = (list(coll.find({'$and':[{'$or':[{\"offices.latitude\":{'$ne':None}},{\"offices.longitude\":{'$ne':None}}]},{'deadpooled_year':None}]})))\n",
    "clean_db = []\n",
    "for i in range(len(rest)):\n",
    "    value = rest[i].get('total_money_raised') \n",
    "    valueM = re.findall(r'\\d+[?\\.\\d]?\\d',value)\n",
    "    if valueM == []:\n",
    "        valueM = [0]\n",
    "    diction ={\n",
    "        'name':rest[i]['name'],\n",
    "        'category':rest[i]['category_code'],\n",
    "        #'deadpooled':rest[i]['deadpooled_year'],\n",
    "        'value': {\n",
    "            'value':float(valueM[0]),\n",
    "            'qty':value[-1]\n",
    "        }\n",
    "        \n",
    "    }\n",
    "    for ind in range(len(rest[i]['offices'])):\n",
    "        if rest[i]['offices']:\n",
    "            diction[f'Location-{ind+1}'] = {\n",
    "                'type':'Point',\n",
    "                'coordinates':[float(rest[i]['offices'][ind]['longitude']), float(rest[i]['offices'][ind]['latitude'])]\n",
    "            }\n",
    "        \n",
    "    \n",
    "    clean_db.append(diction)"
   ]
  },
  {
   "cell_type": "code",
   "execution_count": 9,
   "metadata": {},
   "outputs": [],
   "source": [
    "with open('Database/database_clean.json', 'w') as fp:\n",
    "    json.dump(clean_db, fp)"
   ]
  },
  {
   "cell_type": "code",
   "execution_count": 10,
   "metadata": {},
   "outputs": [],
   "source": [
    "#command = 'mongoimport --db companies --collection companies_clean --jsonArray --file database_clean.json'\n",
    "#os.popen(command)"
   ]
  },
  {
   "cell_type": "code",
   "execution_count": 20,
   "metadata": {},
   "outputs": [],
   "source": [
    "load_dotenv()\n",
    "db,coll_clean = (list(connectCollection('companies','companies_clean2')))"
   ]
  },
  {
   "cell_type": "code",
   "execution_count": 21,
   "metadata": {},
   "outputs": [],
   "source": [
    "def gsearch(lat,lon,radius,query):\n",
    "    URL = 'https://maps.googleapis.com/maps/api/place/nearbysearch/json?'\n",
    "    params={\n",
    "        'name':str(query),\n",
    "        'location':'{},{}'.format(lat,lon),\n",
    "        'radius':str(radius),\n",
    "        'key':os.getenv('GOOGLE_KEY'),\n",
    "        }\n",
    "    res=requests.get(URL, params=params).json()\n",
    "    return res"
   ]
  },
  {
   "cell_type": "code",
   "execution_count": 22,
   "metadata": {},
   "outputs": [],
   "source": [
    "def geolocation(data):\n",
    "    list_places = []\n",
    "    for i in range(len(data['results'])):\n",
    "        diction={}\n",
    "        lat = data['results'][0]['geometry']['location']['lat']\n",
    "        lng = data['results'][0]['geometry']['location']['lng']\n",
    "        diction = {\n",
    "            'type':'Point',\n",
    "            'coordinates':[lng,lat]\n",
    "            }\n",
    "        list_places.append(diction)\n",
    "    return list_places"
   ]
  },
  {
   "cell_type": "code",
   "execution_count": 23,
   "metadata": {},
   "outputs": [],
   "source": [
    "def getnearbyplaces(coll,radius,query,init = 0):\n",
    "    coll_list = (list(coll.find({})))\n",
    "    try:\n",
    "        init = init\n",
    "        for i in range(init,len(coll_list)):\n",
    "            print(f'enterprise{i}')\n",
    "            collitem =  coll_list[i][f'Location-1']\n",
    "            lat = collitem['coordinates'][1]\n",
    "            lon = collitem['coordinates'][0]\n",
    "            data = gsearch(lat,lon,radius,query)\n",
    "            geoloc = geolocation(data)\n",
    "            locations = geoloc\n",
    "            places = len(geoloc)\n",
    "            value = {\"$set\":{'Location-1':{'type':'Point','coordinates':[float(lat), float(lon)],query:{'locations':locations,'Nº':places}}}}\n",
    "            coll.update_one(coll_list[i],value)\n",
    "    except KeyError as e:\n",
    "        init = i+1\n",
    "        print(f'Error,{e}')\n",
    "        return getnearbyplaces(coll_clean,500,'starbucks',init)"
   ]
  },
  {
   "cell_type": "code",
   "execution_count": 24,
   "metadata": {},
   "outputs": [],
   "source": [
    "#getnearbyplaces(coll_clean,500,'starbucks',13321)"
   ]
  },
  {
   "cell_type": "code",
   "execution_count": 29,
   "metadata": {},
   "outputs": [
    {
     "data": {
      "text/plain": [
       "{'_id': ObjectId('5dd51184114b796302086476'),\n",
       " 'name': 'BlueLithium',\n",
       " 'category': 'advertising',\n",
       " 'value': {'value': 11.5, 'qty': 'M'},\n",
       " 'Location-1': {'type': 'Point',\n",
       "  'coordinates': [37.32052, -121.948399],\n",
       "  'starbucks': {'locations': [{'type': 'Point',\n",
       "     'coordinates': [-121.949113, 37.320964]},\n",
       "    {'type': 'Point', 'coordinates': [-121.949113, 37.320964]}],\n",
       "   'Nº': 2}}}"
      ]
     },
     "metadata": {},
     "output_type": "display_data"
    }
   ],
   "source": [
    "coll_list = (list(coll_clean.find({})))\n",
    "display(coll_list[250])\n",
    "\n",
    "\n"
   ]
  },
  {
   "cell_type": "code",
   "execution_count": 45,
   "metadata": {},
   "outputs": [],
   "source": [
    "transport = pd.read_csv(\"Database/airports-extended.csv\")"
   ]
  },
  {
   "cell_type": "code",
   "execution_count": 46,
   "metadata": {},
   "outputs": [
    {
     "data": {
      "text/html": [
       "<div>\n",
       "<style scoped>\n",
       "    .dataframe tbody tr th:only-of-type {\n",
       "        vertical-align: middle;\n",
       "    }\n",
       "\n",
       "    .dataframe tbody tr th {\n",
       "        vertical-align: top;\n",
       "    }\n",
       "\n",
       "    .dataframe thead th {\n",
       "        text-align: right;\n",
       "    }\n",
       "</style>\n",
       "<table border=\"1\" class=\"dataframe\">\n",
       "  <thead>\n",
       "    <tr style=\"text-align: right;\">\n",
       "      <th></th>\n",
       "      <th>Name</th>\n",
       "      <th>Lat</th>\n",
       "      <th>Lng</th>\n",
       "      <th>Type</th>\n",
       "    </tr>\n",
       "  </thead>\n",
       "  <tbody>\n",
       "    <tr>\n",
       "      <th>0</th>\n",
       "      <td>Goroka Airport</td>\n",
       "      <td>-6.081690</td>\n",
       "      <td>145.391998</td>\n",
       "      <td>airport</td>\n",
       "    </tr>\n",
       "    <tr>\n",
       "      <th>1</th>\n",
       "      <td>Madang Airport</td>\n",
       "      <td>-5.207080</td>\n",
       "      <td>145.789001</td>\n",
       "      <td>airport</td>\n",
       "    </tr>\n",
       "    <tr>\n",
       "      <th>2</th>\n",
       "      <td>Mount Hagen Kagamuga Airport</td>\n",
       "      <td>-5.826790</td>\n",
       "      <td>144.296005</td>\n",
       "      <td>airport</td>\n",
       "    </tr>\n",
       "    <tr>\n",
       "      <th>3</th>\n",
       "      <td>Nadzab Airport</td>\n",
       "      <td>-6.569803</td>\n",
       "      <td>146.725977</td>\n",
       "      <td>airport</td>\n",
       "    </tr>\n",
       "    <tr>\n",
       "      <th>4</th>\n",
       "      <td>Port Moresby Jacksons International Airport</td>\n",
       "      <td>-9.443380</td>\n",
       "      <td>147.220001</td>\n",
       "      <td>airport</td>\n",
       "    </tr>\n",
       "    <tr>\n",
       "      <th>...</th>\n",
       "      <td>...</td>\n",
       "      <td>...</td>\n",
       "      <td>...</td>\n",
       "      <td>...</td>\n",
       "    </tr>\n",
       "    <tr>\n",
       "      <th>10651</th>\n",
       "      <td>Duisburg Hauptbahnhof</td>\n",
       "      <td>51.429402</td>\n",
       "      <td>6.774830</td>\n",
       "      <td>station</td>\n",
       "    </tr>\n",
       "    <tr>\n",
       "      <th>10657</th>\n",
       "      <td>Bamburi Airport</td>\n",
       "      <td>-3.979444</td>\n",
       "      <td>39.731388</td>\n",
       "      <td>airport</td>\n",
       "    </tr>\n",
       "    <tr>\n",
       "      <th>10658</th>\n",
       "      <td>Pioltello-Limito Railway Station</td>\n",
       "      <td>45.486111</td>\n",
       "      <td>9.329444</td>\n",
       "      <td>station</td>\n",
       "    </tr>\n",
       "    <tr>\n",
       "      <th>10659</th>\n",
       "      <td>Verdello-Dalmine Railway Station</td>\n",
       "      <td>45.605556</td>\n",
       "      <td>9.619722</td>\n",
       "      <td>station</td>\n",
       "    </tr>\n",
       "    <tr>\n",
       "      <th>10660</th>\n",
       "      <td>Treviglio-Ovest Railway Station</td>\n",
       "      <td>45.521827</td>\n",
       "      <td>9.580469</td>\n",
       "      <td>station</td>\n",
       "    </tr>\n",
       "  </tbody>\n",
       "</table>\n",
       "<p>9273 rows × 4 columns</p>\n",
       "</div>"
      ],
      "text/plain": [
       "                                              Name        Lat         Lng  \\\n",
       "0                                   Goroka Airport  -6.081690  145.391998   \n",
       "1                                   Madang Airport  -5.207080  145.789001   \n",
       "2                     Mount Hagen Kagamuga Airport  -5.826790  144.296005   \n",
       "3                                   Nadzab Airport  -6.569803  146.725977   \n",
       "4      Port Moresby Jacksons International Airport  -9.443380  147.220001   \n",
       "...                                            ...        ...         ...   \n",
       "10651                        Duisburg Hauptbahnhof  51.429402    6.774830   \n",
       "10657                              Bamburi Airport  -3.979444   39.731388   \n",
       "10658             Pioltello-Limito Railway Station  45.486111    9.329444   \n",
       "10659             Verdello-Dalmine Railway Station  45.605556    9.619722   \n",
       "10660              Treviglio-Ovest Railway Station  45.521827    9.580469   \n",
       "\n",
       "          Type  \n",
       "0      airport  \n",
       "1      airport  \n",
       "2      airport  \n",
       "3      airport  \n",
       "4      airport  \n",
       "...        ...  \n",
       "10651  station  \n",
       "10657  airport  \n",
       "10658  station  \n",
       "10659  station  \n",
       "10660  station  \n",
       "\n",
       "[9273 rows x 4 columns]"
      ]
     },
     "execution_count": 46,
     "metadata": {},
     "output_type": "execute_result"
    }
   ],
   "source": [
    "transport = transport[transport.Type!= 'unknown']\n",
    "transport"
   ]
  },
  {
   "cell_type": "code",
   "execution_count": 47,
   "metadata": {},
   "outputs": [],
   "source": [
    "geocode = []\n",
    "for i in range(len(transport[\"Lat\"])):\n",
    "    lat = transport[\"Lat\"].iloc[i]\n",
    "    lng = transport[\"Lng\"].iloc[i]\n",
    "    diction = {\n",
    "            'type':'Point',\n",
    "            'coordinates':[lng,lat]\n",
    "            }\n",
    "    geocode.append(diction)"
   ]
  },
  {
   "cell_type": "code",
   "execution_count": 48,
   "metadata": {},
   "outputs": [],
   "source": [
    "transport['geocode'] = geocode"
   ]
  },
  {
   "cell_type": "code",
   "execution_count": 49,
   "metadata": {},
   "outputs": [],
   "source": [
    "from geopy.distance import geodesic \n",
    "def getdistance(location1,location2):\n",
    "    return geodesic(location1, location2).km"
   ]
  },
  {
   "cell_type": "code",
   "execution_count": 51,
   "metadata": {},
   "outputs": [],
   "source": [
    "db,coll = (list(connectCollection('companies','companies_clean2')))"
   ]
  },
  {
   "cell_type": "code",
   "execution_count": 52,
   "metadata": {},
   "outputs": [],
   "source": [
    "transport = pd.read_csv(\"Database/airports-extended.csv\")\n",
    "transport = transport[transport.Type!= 'unknown']\n",
    "geocode = []\n",
    "for i in range(len(transport[\"Lat\"])):\n",
    "    lat = transport[\"Lat\"].iloc[i]\n",
    "    lng = transport[\"Lng\"].iloc[i]\n",
    "    diction = {\n",
    "            'type':'Point',\n",
    "            'coordinates':[lng,lat]\n",
    "            }\n",
    "    geocode.append(diction)\n",
    "transport['geocode'] = geocode"
   ]
  },
  {
   "cell_type": "code",
   "execution_count": 53,
   "metadata": {},
   "outputs": [],
   "source": [
    "def getdistance(location1,location2):\n",
    "        return geodesic(location1, location2).km"
   ]
  },
  {
   "cell_type": "code",
   "execution_count": 54,
   "metadata": {},
   "outputs": [],
   "source": [
    "coll_list = (list(coll.find({})))"
   ]
  },
  {
   "cell_type": "code",
   "execution_count": 55,
   "metadata": {},
   "outputs": [
    {
     "data": {
      "text/html": [
       "<div>\n",
       "<style scoped>\n",
       "    .dataframe tbody tr th:only-of-type {\n",
       "        vertical-align: middle;\n",
       "    }\n",
       "\n",
       "    .dataframe tbody tr th {\n",
       "        vertical-align: top;\n",
       "    }\n",
       "\n",
       "    .dataframe thead th {\n",
       "        text-align: right;\n",
       "    }\n",
       "</style>\n",
       "<table border=\"1\" class=\"dataframe\">\n",
       "  <thead>\n",
       "    <tr style=\"text-align: right;\">\n",
       "      <th></th>\n",
       "      <th>_id</th>\n",
       "      <th>name</th>\n",
       "      <th>value</th>\n",
       "      <th>Location-1</th>\n",
       "    </tr>\n",
       "  </thead>\n",
       "  <tbody>\n",
       "    <tr>\n",
       "      <th>0</th>\n",
       "      <td>5dd51184114b79630208637c</td>\n",
       "      <td>Flektor</td>\n",
       "      <td>{'value': 0.0, 'qty': '0'}</td>\n",
       "      <td>{'type': 'Point', 'coordinates': [-118.379768,...</td>\n",
       "    </tr>\n",
       "    <tr>\n",
       "      <th>1</th>\n",
       "      <td>5dd51184114b79630208637d</td>\n",
       "      <td>Fox Interactive Media</td>\n",
       "      <td>{'value': 0.0, 'qty': '0'}</td>\n",
       "      <td>{'type': 'Point', 'coordinates': [-118.39417, ...</td>\n",
       "    </tr>\n",
       "    <tr>\n",
       "      <th>2</th>\n",
       "      <td>5dd51184114b79630208637e</td>\n",
       "      <td>Gizmoz</td>\n",
       "      <td>{'value': 18.1, 'qty': 'M'}</td>\n",
       "      <td>{'type': 'Point', 'coordinates': [-122.169472,...</td>\n",
       "    </tr>\n",
       "    <tr>\n",
       "      <th>3</th>\n",
       "      <td>5dd51184114b79630208637f</td>\n",
       "      <td>Scribd</td>\n",
       "      <td>{'value': 25.8, 'qty': 'M'}</td>\n",
       "      <td>{'type': 'Point', 'coordinates': [-122.404052,...</td>\n",
       "    </tr>\n",
       "    <tr>\n",
       "      <th>4</th>\n",
       "      <td>5dd51184114b796302086380</td>\n",
       "      <td>Facebook</td>\n",
       "      <td>{'value': 2.4, 'qty': 'B'}</td>\n",
       "      <td>{'type': 'Point', 'coordinates': [-122.151801,...</td>\n",
       "    </tr>\n",
       "  </tbody>\n",
       "</table>\n",
       "</div>"
      ],
      "text/plain": [
       "                        _id                   name  \\\n",
       "0  5dd51184114b79630208637c                Flektor   \n",
       "1  5dd51184114b79630208637d  Fox Interactive Media   \n",
       "2  5dd51184114b79630208637e                 Gizmoz   \n",
       "3  5dd51184114b79630208637f                 Scribd   \n",
       "4  5dd51184114b796302086380               Facebook   \n",
       "\n",
       "                         value  \\\n",
       "0   {'value': 0.0, 'qty': '0'}   \n",
       "1   {'value': 0.0, 'qty': '0'}   \n",
       "2  {'value': 18.1, 'qty': 'M'}   \n",
       "3  {'value': 25.8, 'qty': 'M'}   \n",
       "4   {'value': 2.4, 'qty': 'B'}   \n",
       "\n",
       "                                          Location-1  \n",
       "0  {'type': 'Point', 'coordinates': [-118.379768,...  \n",
       "1  {'type': 'Point', 'coordinates': [-118.39417, ...  \n",
       "2  {'type': 'Point', 'coordinates': [-122.169472,...  \n",
       "3  {'type': 'Point', 'coordinates': [-122.404052,...  \n",
       "4  {'type': 'Point', 'coordinates': [-122.151801,...  "
      ]
     },
     "metadata": {},
     "output_type": "display_data"
    }
   ],
   "source": [
    "data = pd.DataFrame(coll_list)\n",
    "data = data[['_id','name','value','Location-1']]\n",
    "data.dropna(subset=['Location-1'], inplace=True)\n",
    "display(data.head())"
   ]
  },
  {
   "cell_type": "code",
   "execution_count": 56,
   "metadata": {},
   "outputs": [
    {
     "data": {
      "text/html": [
       "<div>\n",
       "<style scoped>\n",
       "    .dataframe tbody tr th:only-of-type {\n",
       "        vertical-align: middle;\n",
       "    }\n",
       "\n",
       "    .dataframe tbody tr th {\n",
       "        vertical-align: top;\n",
       "    }\n",
       "\n",
       "    .dataframe thead th {\n",
       "        text-align: right;\n",
       "    }\n",
       "</style>\n",
       "<table border=\"1\" class=\"dataframe\">\n",
       "  <thead>\n",
       "    <tr style=\"text-align: right;\">\n",
       "      <th></th>\n",
       "      <th>_id</th>\n",
       "      <th>name</th>\n",
       "      <th>value</th>\n",
       "      <th>Location-1</th>\n",
       "      <th>Starbucks</th>\n",
       "    </tr>\n",
       "  </thead>\n",
       "  <tbody>\n",
       "    <tr>\n",
       "      <th>0</th>\n",
       "      <td>5dd51184114b79630208637c</td>\n",
       "      <td>Flektor</td>\n",
       "      <td>{'value': 0.0, 'qty': '0'}</td>\n",
       "      <td>{'type': 'Point', 'coordinates': [-118.379768,...</td>\n",
       "      <td>{'locations': [], 'Nº': 0}</td>\n",
       "    </tr>\n",
       "    <tr>\n",
       "      <th>1</th>\n",
       "      <td>5dd51184114b79630208637d</td>\n",
       "      <td>Fox Interactive Media</td>\n",
       "      <td>{'value': 0.0, 'qty': '0'}</td>\n",
       "      <td>{'type': 'Point', 'coordinates': [-118.39417, ...</td>\n",
       "      <td>{'locations': [], 'Nº': 0}</td>\n",
       "    </tr>\n",
       "    <tr>\n",
       "      <th>2</th>\n",
       "      <td>5dd51184114b79630208637e</td>\n",
       "      <td>Gizmoz</td>\n",
       "      <td>{'value': 18.1, 'qty': 'M'}</td>\n",
       "      <td>{'type': 'Point', 'coordinates': [-122.169472,...</td>\n",
       "      <td>{'locations': [], 'Nº': 0}</td>\n",
       "    </tr>\n",
       "    <tr>\n",
       "      <th>3</th>\n",
       "      <td>5dd51184114b79630208637f</td>\n",
       "      <td>Scribd</td>\n",
       "      <td>{'value': 25.8, 'qty': 'M'}</td>\n",
       "      <td>{'type': 'Point', 'coordinates': [-122.404052,...</td>\n",
       "      <td>{'locations': [], 'Nº': 0}</td>\n",
       "    </tr>\n",
       "    <tr>\n",
       "      <th>4</th>\n",
       "      <td>5dd51184114b796302086380</td>\n",
       "      <td>Facebook</td>\n",
       "      <td>{'value': 2.4, 'qty': 'B'}</td>\n",
       "      <td>{'type': 'Point', 'coordinates': [-122.151801,...</td>\n",
       "      <td>{'locations': [], 'Nº': 0}</td>\n",
       "    </tr>\n",
       "  </tbody>\n",
       "</table>\n",
       "</div>"
      ],
      "text/plain": [
       "                        _id                   name  \\\n",
       "0  5dd51184114b79630208637c                Flektor   \n",
       "1  5dd51184114b79630208637d  Fox Interactive Media   \n",
       "2  5dd51184114b79630208637e                 Gizmoz   \n",
       "3  5dd51184114b79630208637f                 Scribd   \n",
       "4  5dd51184114b796302086380               Facebook   \n",
       "\n",
       "                         value  \\\n",
       "0   {'value': 0.0, 'qty': '0'}   \n",
       "1   {'value': 0.0, 'qty': '0'}   \n",
       "2  {'value': 18.1, 'qty': 'M'}   \n",
       "3  {'value': 25.8, 'qty': 'M'}   \n",
       "4   {'value': 2.4, 'qty': 'B'}   \n",
       "\n",
       "                                          Location-1  \\\n",
       "0  {'type': 'Point', 'coordinates': [-118.379768,...   \n",
       "1  {'type': 'Point', 'coordinates': [-118.39417, ...   \n",
       "2  {'type': 'Point', 'coordinates': [-122.169472,...   \n",
       "3  {'type': 'Point', 'coordinates': [-122.404052,...   \n",
       "4  {'type': 'Point', 'coordinates': [-122.151801,...   \n",
       "\n",
       "                    Starbucks  \n",
       "0  {'locations': [], 'Nº': 0}  \n",
       "1  {'locations': [], 'Nº': 0}  \n",
       "2  {'locations': [], 'Nº': 0}  \n",
       "3  {'locations': [], 'Nº': 0}  \n",
       "4  {'locations': [], 'Nº': 0}  "
      ]
     },
     "metadata": {},
     "output_type": "display_data"
    }
   ],
   "source": [
    "liststarbacks=[]\n",
    "for i in range(len(data['Location-1'])):\n",
    "    liststarbacks.append(data['Location-1'].iloc[i]['starbucks'])\n",
    "data['Starbucks'] = liststarbacks\n",
    "display(data.head())"
   ]
  },
  {
   "cell_type": "code",
   "execution_count": 57,
   "metadata": {},
   "outputs": [],
   "source": [
    "geoindex = []\n",
    "for i in range(len(data['Location-1'])):\n",
    "    diction_2 = {\n",
    "        'type':'Point',\n",
    "        'coordinates':[data['Location-1'].iloc[i]['coordinates'][0],data['Location-1'].iloc[i]['coordinates'][1]]\n",
    "    }\n",
    "    geoindex.append(diction_2)\n",
    "data['Location-1']=geoindex"
   ]
  },
  {
   "cell_type": "code",
   "execution_count": 60,
   "metadata": {},
   "outputs": [],
   "source": [
    "db,coll_3 = connectCollection('companies','companies_clean_3')\n",
    "for i in range(len(data['Location-1'])):\n",
    "    latitud = data['Location-1'].iloc[i]['coordinates'][1]\n",
    "    longitud = data['Location-1'].iloc[i]['coordinates'][0]\n",
    "    if latitud > 90 or latitud < -90:\n",
    "        data['Location-1'].iloc[i]['coordinates'][1]=longitud\n",
    "        data['Location-1'].iloc[i]['coordinates'][0]=latitud\n",
    "        print(f'Error, latitud = {latitud}, longitud = {longitud}')"
   ]
  },
  {
   "cell_type": "code",
   "execution_count": 61,
   "metadata": {},
   "outputs": [],
   "source": [
    "db,coll_airports = connectCollection('companies','airports')\n",
    "transport = transport[['Name','Type','geocode']]\n",
    "for i in range(len(transport['geocode'])):\n",
    "    latitud = transport['geocode'].iloc[i]['coordinates'][1]\n",
    "    longitud = transport['geocode'].iloc[i]['coordinates'][0]\n",
    "    if latitud > 90. or latitud < -90.:\n",
    "        transport['geocode'].iloc[i]['coordinates'][1]=latitud/1000\n",
    "        print(f'Error, latitud = {latitud}')\n",
    "    if longitud > 180. or longitud < -180.:\n",
    "        transport['geocode'].iloc[i]['coordinates'][0]=longitud/1000\n",
    "        print(f'Error,longitud = {longitud}')"
   ]
  },
  {
   "cell_type": "code",
   "execution_count": null,
   "metadata": {},
   "outputs": [],
   "source": [
    "'''\n",
    "coll_3.create_index([('Location-1', pymongo.GEOSPHERE)])\n",
    "coll_airports.insert_many(transport.to_dict('record'))\n",
    "coll_airports.create_index ([('geocode', pymongo.GEOSPHERE)])\n",
    "'''\n"
   ]
  }
 ],
 "metadata": {
  "kernelspec": {
   "display_name": "Python 3",
   "language": "python",
   "name": "python3"
  },
  "language_info": {
   "codemirror_mode": {
    "name": "ipython",
    "version": 3
   },
   "file_extension": ".py",
   "mimetype": "text/x-python",
   "name": "python",
   "nbconvert_exporter": "python",
   "pygments_lexer": "ipython3",
   "version": "3.6.8"
  }
 },
 "nbformat": 4,
 "nbformat_minor": 2
}
