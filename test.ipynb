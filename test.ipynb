{
 "cells": [
  {
   "cell_type": "code",
   "execution_count": 1,
   "metadata": {},
   "outputs": [
    {
     "name": "stderr",
     "output_type": "stream",
     "text": [
      "/usr/lib/python3/dist-packages/requests/__init__.py:80: RequestsDependencyWarning: urllib3 (1.24.2) or chardet (3.0.4) doesn't match a supported version!\n",
      "  RequestsDependencyWarning)\n"
     ]
    },
    {
     "data": {
      "text/plain": [
       "True"
      ]
     },
     "execution_count": 1,
     "metadata": {},
     "output_type": "execute_result"
    }
   ],
   "source": [
    "import os\n",
    "from pymongo import MongoClient\n",
    "import pandas as pd\n",
    "import json\n",
    "import requests\n",
    "from dotenv import load_dotenv\n",
    "import re\n",
    "load_dotenv()"
   ]
  },
  {
   "cell_type": "code",
   "execution_count": 2,
   "metadata": {},
   "outputs": [
    {
     "data": {
      "text/plain": [
       "<os._wrap_close at 0x7f84be014080>"
      ]
     },
     "execution_count": 2,
     "metadata": {},
     "output_type": "execute_result"
    }
   ],
   "source": [
    "startmongo = 'service mongod start'\n",
    "command = 'mongoimport --db companies --collection companies --file Database/companies.json'\n",
    "def initDB():\n",
    "    os.popen(startmongo)\n",
    "os.popen(startmongo)\n",
    "os.popen('service mongod status')\n",
    "os.popen(command)"
   ]
  },
  {
   "cell_type": "code",
   "execution_count": 3,
   "metadata": {},
   "outputs": [],
   "source": [
    "def connectCollection(database, collection):\n",
    "    client = MongoClient()\n",
    "    db = client[database]\n",
    "    coll = db[collection]\n",
    "    return db, coll"
   ]
  },
  {
   "cell_type": "code",
   "execution_count": 4,
   "metadata": {},
   "outputs": [],
   "source": [
    "db,coll = (list(connectCollection('companies','companies')))\n",
    "rest = (list(coll.find({'$and':[{'$or':[{\"offices.latitude\":{'$ne':None}},{\"offices.longitude\":{'$ne':None}}]},{'deadpooled_year':None}]})))\n",
    "value =  rest[0].get('total_money_raised')"
   ]
  },
  {
   "cell_type": "code",
   "execution_count": 5,
   "metadata": {},
   "outputs": [],
   "source": [
    "#q = {'$or':[{\"offices.latitude\":{'$ne':'null'}},{\"offices.longitude\":{'$ne':'null'}}]}\n",
    "rest = (list(coll.find({'$and':[{'$or':[{\"offices.latitude\":{'$ne':None}},{\"offices.longitude\":{'$ne':None}}]},{'deadpooled_year':None}]})))\n",
    "clean_db = []\n",
    "for i in range(len(rest)):\n",
    "    value = rest[i].get('total_money_raised') \n",
    "    valueM = re.findall(r'\\d+[?\\.\\d]?\\d',value)\n",
    "    if valueM == []:\n",
    "        valueM = [0]\n",
    "    diction ={\n",
    "        'name':rest[i]['name'],\n",
    "        'category':rest[i]['category_code'],\n",
    "        #'deadpooled':rest[i]['deadpooled_year'],\n",
    "        'value': {\n",
    "            'value':float(valueM[0]),\n",
    "            'qty':value[-1]\n",
    "        }\n",
    "        \n",
    "    }\n",
    "    for ind in range(len(rest[i]['offices'])):\n",
    "        if rest[i]['offices']:\n",
    "            diction[f'Location-{ind+1}'] = {\n",
    "                'type':'Point',\n",
    "                'coordinates':[float(rest[i]['offices'][ind]['longitude']), float(rest[i]['offices'][ind]['latitude'])]\n",
    "            }\n",
    "        \n",
    "    \n",
    "    clean_db.append(diction)"
   ]
  },
  {
   "cell_type": "code",
   "execution_count": 6,
   "metadata": {},
   "outputs": [],
   "source": [
    "with open('Database/database_clean.json', 'w') as fp:\n",
    "    json.dump(clean_db, fp)"
   ]
  },
  {
   "cell_type": "code",
   "execution_count": 7,
   "metadata": {},
   "outputs": [],
   "source": [
    "#command = 'mongoimport --db companies --collection companies_clean --jsonArray --file database_clean.json'\n",
    "#os.popen(command)"
   ]
  },
  {
   "cell_type": "markdown",
   "metadata": {},
   "source": [
    "'''def requestfoursquare(query,lon,lat,radius):\n",
    "    '''\n",
    "    #lon => float\n",
    "    #lat => float\n",
    "    #radius => meters\n",
    "    '''\n",
    "    url = 'https://api.foursquare.com/v2/venues/explore'\n",
    "    #client = os.getenv(\"CLIENT_ID\")\n",
    "    #passw = os.getenv(\"CLIENT_SECRET\")\n",
    "    params = dict(\n",
    "        client_id=os.getenv(\"CLIENT_ID\"),\n",
    "        client_secret=os.getenv(\"CLIENT_SECRET\"),\n",
    "        v='20180335',\n",
    "        ll='{},{}'.format(lat,lon),\n",
    "        query=query,\n",
    "        limit=200,\n",
    "        radius = radius\n",
    "    )\n",
    "    resp = requests.get(url=url, params=params)\n",
    "    data = json.loads(resp.text)\n",
    "    return data'''\n",
    "    \n",
    "'''def getlocation(data):\n",
    "    locationslist = []\n",
    "    for i in range(len(data['response']['groups'][0]['items'])):\n",
    "        latitude = float((data['response']['groups'][0]['items'][i]['venue'].get('location')).get('lat'))\n",
    "        longitude = float((data['response']['groups'][0]['items'][i]['venue'].get('location')).get('lng'))\n",
    "        dictio = {\n",
    "            'name':(data['response']['groups'][0]['items'][i]['venue']).get('name'),\n",
    "            'loc':{'type':'Point','coordinates':[longitude,latitude]}            \n",
    "            }\n",
    "        locationslist.append(dictio)\n",
    "    return locationslist\n",
    "'''\n",
    "\n",
    "'''#'name: Starbucks'\n",
    "for i in range(len(clean_db)):\n",
    "    for ind in range(1,(len(clean_db[i])-2)):\n",
    "        print('enterprise{}, location{}'.format(i,ind))\n",
    "        lat = clean_db[i]['Location-{}'.format(ind)]['coordinates'][0]\n",
    "        lon = clean_db[i]['Location-{}'.format(ind)]['coordinates'][1]\n",
    "        data = requestfoursquare('type: Starbucks',lat,lon,1000)\n",
    "        display(data)\n",
    "        geo = getlocation(data)\n",
    "        print(len(geo))\n",
    "        break'''\n"
   ]
  },
  {
   "cell_type": "code",
   "execution_count": 69,
   "metadata": {},
   "outputs": [],
   "source": [
    "load_dotenv()\n",
    "db,coll_clean = (list(connectCollection('companies','companies_clean')))"
   ]
  },
  {
   "cell_type": "code",
   "execution_count": 70,
   "metadata": {},
   "outputs": [],
   "source": [
    "def gsearch(lat,lon,radius,query):\n",
    "    URL = 'https://maps.googleapis.com/maps/api/place/nearbysearch/json?'\n",
    "    params={\n",
    "        'name':str(query),\n",
    "        'location':'{},{}'.format(lat,lon),\n",
    "        'radius':str(radius),\n",
    "        'key':os.getenv('GOOGLE_KEY'),\n",
    "        }\n",
    "    res=requests.get(URL, params=params).json()\n",
    "    return res"
   ]
  },
  {
   "cell_type": "code",
   "execution_count": 85,
   "metadata": {},
   "outputs": [],
   "source": [
    "def geolocation(data):\n",
    "    list_places = []\n",
    "    for i in range(len(data['results'])):\n",
    "        diction={}\n",
    "        lat = data['results'][0]['geometry']['location']['lat']\n",
    "        lng = data['results'][0]['geometry']['location']['lng']\n",
    "        diction = {\n",
    "            'type':'Point',\n",
    "            'coordinates':[lng,lat]\n",
    "            }\n",
    "        list_places.append(diction)\n",
    "    return list_places"
   ]
  },
  {
   "cell_type": "code",
   "execution_count": 128,
   "metadata": {},
   "outputs": [],
   "source": [
    "def getnearbyplaces(coll,radius,query):\n",
    "    coll_list = (list(coll.find({})))\n",
    "    for i in range(len(coll_list)):\n",
    "        print(len(coll_list[i]))\n",
    "        print(range(1,(len(coll_list[i])-3)))\n",
    "        for ind in range(1,(len(coll_list[i])-3)):\n",
    "            print(ind)\n",
    "            collitem =  coll_list[i][f'Location-{ind}']\n",
    "            print('enterprise{}, location{}'.format(i,ind))\n",
    "            lat = collitem['coordinates'][1]\n",
    "            lon = collitem['coordinates'][0]\n",
    "            data = gsearch(lat,lon,radius,query)\n",
    "            geoloc = geolocation(data)\n",
    "            locations = geoloc\n",
    "            places = len(geoloc)\n",
    "            value = {\"$set\":{f'Location-{ind}':{'type':'Point','coordinates':[float(lat), float(lon)],query:{'locations':locations,'Nº':places}}}}\n",
    "            coll.update_one(coll_list[i],value)\n",
    "            display(coll_list[i])"
   ]
  },
  {
   "cell_type": "code",
   "execution_count": null,
   "metadata": {},
   "outputs": [],
   "source": [
    "getnearbyplaces(coll_clean,500,'starbucks')"
   ]
  },
  {
   "cell_type": "code",
   "execution_count": null,
   "metadata": {},
   "outputs": [],
   "source": [
    "def updatedb(data,collitem,query):\n",
    "    locations = data\n",
    "    places = len(data)\n",
    "    value = {\"$set\": {f'locations-{query}':data, f'Nº{query}':places}}\n",
    "    coll.update_one(collitem,value)\n",
    "updatedb()\n"
   ]
  },
  {
   "cell_type": "code",
   "execution_count": null,
   "metadata": {},
   "outputs": [],
   "source": []
  }
 ],
 "metadata": {
  "kernelspec": {
   "display_name": "Python 3",
   "language": "python",
   "name": "python3"
  },
  "language_info": {
   "codemirror_mode": {
    "name": "ipython",
    "version": 3
   },
   "file_extension": ".py",
   "mimetype": "text/x-python",
   "name": "python",
   "nbconvert_exporter": "python",
   "pygments_lexer": "ipython3",
   "version": "3.6.8"
  }
 },
 "nbformat": 4,
 "nbformat_minor": 2
}
